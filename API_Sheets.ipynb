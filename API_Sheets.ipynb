{
 "cells": [
  {
   "cell_type": "code",
   "execution_count": 93,
   "id": "b3bed4dc",
   "metadata": {},
   "outputs": [],
   "source": [
    "import pandas as pd"
   ]
  },
  {
   "cell_type": "code",
   "execution_count": 94,
   "id": "7a14b044",
   "metadata": {},
   "outputs": [],
   "source": [
    "dados = pd.read_excel('dados_lojas.xlsx')\n",
    "dados['dia_venda'] = dados['dia_venda'].astype(str)\n",
    "dados1 = [dados.columns.values.tolist()] + dados.values.tolist()"
   ]
  },
  {
   "cell_type": "code",
   "execution_count": 95,
   "id": "91b8319e",
   "metadata": {},
   "outputs": [],
   "source": [
    "\n",
    "from google.auth.transport.requests import Request\n",
    "from google.oauth2.credentials import Credentials\n",
    "from google_auth_oauthlib.flow import InstalledAppFlow\n",
    "from googleapiclient.discovery import build\n",
    "from googleapiclient.errors import HttpError\n",
    "\n",
    "# If modifying these scopes, delete the file token.json.\n",
    "SCOPES = ['https://www.googleapis.com/auth/spreadsheets']\n",
    "\n",
    "# The ID and range of a sample spreadsheet.\n",
    "SAMPLE_SPREADSHEET_ID = '1jUowaUcEmdEsBK36o3uWdqmnsH2KbvttUaEkZsVHhFA'\n",
    "SAMPLE_RANGE_NAME = 'A1:K24549'\n",
    "\n",
    "\n",
    "def main():\n",
    "    creds = None\n",
    "\n",
    "    if os.path.exists('token.json'):\n",
    "        creds = Credentials.from_authorized_user_file('token.json', SCOPES)\n",
    "    # If there are no (valid) credentials available, let the user log in.\n",
    "    if not creds or not creds.valid:\n",
    "        if creds and creds.expired and creds.refresh_token:\n",
    "            creds.refresh(Request())\n",
    "        else:\n",
    "            flow = InstalledAppFlow.from_client_secrets_file(\n",
    "                'key_Google.json', SCOPES)\n",
    "            creds = flow.run_local_server(port=0)\n",
    "        # Save the credentials for the next run\n",
    "        with open('token.json', 'w') as token:\n",
    "            token.write(creds.to_json())\n",
    "\n",
    "    try:\n",
    "        service = build('sheets', 'v4', credentials=creds)\n",
    "\n",
    "        # Ler informacoes do Google Sheets\n",
    "        sheet = service.spreadsheets()\n",
    "        \n",
    "        result = sheet.values().update(spreadsheetId=SAMPLE_SPREADSHEET_ID,\n",
    "                            range=SAMPLE_RANGE_NAME, valueInputOption=\"USER_ENTERED\",\n",
    "                              body={'values': dados1}).execute()\n",
    "\n",
    "\n",
    "    except HttpError as err:\n",
    "        print(err)\n",
    "\n",
    "\n",
    "if __name__ == '__main__':\n",
    "    main()"
   ]
  }
 ],
 "metadata": {
  "kernelspec": {
   "display_name": "Python 3 (ipykernel)",
   "language": "python",
   "name": "python3"
  },
  "language_info": {
   "codemirror_mode": {
    "name": "ipython",
    "version": 3
   },
   "file_extension": ".py",
   "mimetype": "text/x-python",
   "name": "python",
   "nbconvert_exporter": "python",
   "pygments_lexer": "ipython3",
   "version": "3.9.12"
  }
 },
 "nbformat": 4,
 "nbformat_minor": 5
}
